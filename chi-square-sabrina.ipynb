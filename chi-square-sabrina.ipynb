{
 "cells": [
  {
   "cell_type": "code",
   "execution_count": 338,
   "id": "2840f09e-0da8-4017-8980-43cf94b1a697",
   "metadata": {},
   "outputs": [],
   "source": [
    "from scipy import stats\n",
    "import numpy as np\n",
    "import pandas as pd\n",
    "from scipy.stats import chi2_contingency"
   ]
  },
  {
   "cell_type": "code",
   "execution_count": 339,
   "id": "dcc6857b-4e69-4b81-9a23-9c38d10b9937",
   "metadata": {},
   "outputs": [],
   "source": [
    "interact =pd.read_csv(\"interact.csv\")"
   ]
  },
  {
   "cell_type": "code",
   "execution_count": 340,
   "id": "73a1c946-d176-4b15-8876-0dc9fc41a185",
   "metadata": {},
   "outputs": [],
   "source": [
    "connect =pd.read_csv(\"connect.csv\")"
   ]
  },
  {
   "cell_type": "code",
   "execution_count": 341,
   "id": "7a90c07e-c103-4c72-844c-47b14538b7fa",
   "metadata": {},
   "outputs": [],
   "source": [
    "learn = pd.read_csv(\"learn.csv\")"
   ]
  },
  {
   "cell_type": "code",
   "execution_count": 342,
   "id": "f71c3484-dd79-4226-966e-980411af9b24",
   "metadata": {},
   "outputs": [],
   "source": [
    "services = pd.read_csv(\"services.csv\")"
   ]
  },
  {
   "cell_type": "code",
   "execution_count": 343,
   "id": "e06db6a1-43be-4bec-9373-06fa0f4ae1eb",
   "metadata": {},
   "outputs": [],
   "source": [
    "help = pd.read_csv(\"help.csv\")"
   ]
  },
  {
   "cell_type": "code",
   "execution_count": 344,
   "id": "795edd0a-2a61-4dc2-9911-00a4c8479081",
   "metadata": {},
   "outputs": [],
   "source": [
    "#statistical_level= 0.1\n",
    "#lift = 40%\n",
    "#desidered statisical significance=90%\n",
    "#p-value=0.1"
   ]
  },
  {
   "cell_type": "code",
   "execution_count": 345,
   "id": "39b64ff2-ad52-49ad-8801-8defdc83af43",
   "metadata": {},
   "outputs": [
    {
     "data": {
      "text/html": [
       "<div>\n",
       "<style scoped>\n",
       "    .dataframe tbody tr th:only-of-type {\n",
       "        vertical-align: middle;\n",
       "    }\n",
       "\n",
       "    .dataframe tbody tr th {\n",
       "        vertical-align: top;\n",
       "    }\n",
       "\n",
       "    .dataframe thead th {\n",
       "        text-align: right;\n",
       "    }\n",
       "</style>\n",
       "<table border=\"1\" class=\"dataframe\">\n",
       "  <thead>\n",
       "    <tr style=\"text-align: right;\">\n",
       "      <th></th>\n",
       "      <th>Element ID</th>\n",
       "      <th>Tag name</th>\n",
       "      <th>Name</th>\n",
       "      <th>No. clicks</th>\n",
       "      <th>Visible?</th>\n",
       "      <th>Snapshot information</th>\n",
       "    </tr>\n",
       "  </thead>\n",
       "  <tbody>\n",
       "    <tr>\n",
       "      <th>0</th>\n",
       "      <td>74</td>\n",
       "      <td>a</td>\n",
       "      <td>FIND</td>\n",
       "      <td>631</td>\n",
       "      <td>True</td>\n",
       "      <td>Homepage Version 4 - Help   •   http://www.lib...</td>\n",
       "    </tr>\n",
       "    <tr>\n",
       "      <th>1</th>\n",
       "      <td>66</td>\n",
       "      <td>input</td>\n",
       "      <td>s.q</td>\n",
       "      <td>364</td>\n",
       "      <td>True</td>\n",
       "      <td>created 5-29-2013   •   20 days 4 hours 59 min...</td>\n",
       "    </tr>\n",
       "    <tr>\n",
       "      <th>2</th>\n",
       "      <td>72</td>\n",
       "      <td>a</td>\n",
       "      <td>lib.montana.edu/find/</td>\n",
       "      <td>139</td>\n",
       "      <td>True</td>\n",
       "      <td>NaN</td>\n",
       "    </tr>\n",
       "    <tr>\n",
       "      <th>3</th>\n",
       "      <td>133</td>\n",
       "      <td>area</td>\n",
       "      <td>Montana State University - Home</td>\n",
       "      <td>122</td>\n",
       "      <td>False</td>\n",
       "      <td>NaN</td>\n",
       "    </tr>\n",
       "    <tr>\n",
       "      <th>4</th>\n",
       "      <td>83</td>\n",
       "      <td>a</td>\n",
       "      <td>REQUEST</td>\n",
       "      <td>72</td>\n",
       "      <td>True</td>\n",
       "      <td>NaN</td>\n",
       "    </tr>\n",
       "  </tbody>\n",
       "</table>\n",
       "</div>"
      ],
      "text/plain": [
       "   Element ID Tag name                             Name  No. clicks  Visible?  \\\n",
       "0          74        a                             FIND         631      True   \n",
       "1          66    input                              s.q         364      True   \n",
       "2          72        a            lib.montana.edu/find/         139      True   \n",
       "3         133     area  Montana State University - Home         122     False   \n",
       "4          83        a                          REQUEST          72      True   \n",
       "\n",
       "                                Snapshot information  \n",
       "0  Homepage Version 4 - Help   •   http://www.lib...  \n",
       "1  created 5-29-2013   •   20 days 4 hours 59 min...  \n",
       "2                                                NaN  \n",
       "3                                                NaN  \n",
       "4                                                NaN  "
      ]
     },
     "execution_count": 345,
     "metadata": {},
     "output_type": "execute_result"
    }
   ],
   "source": [
    "help.head()"
   ]
  },
  {
   "cell_type": "code",
   "execution_count": 346,
   "id": "2694ab3d-aca8-46af-96a8-b910be1c30d8",
   "metadata": {},
   "outputs": [
    {
     "data": {
      "text/html": [
       "<div>\n",
       "<style scoped>\n",
       "    .dataframe tbody tr th:only-of-type {\n",
       "        vertical-align: middle;\n",
       "    }\n",
       "\n",
       "    .dataframe tbody tr th {\n",
       "        vertical-align: top;\n",
       "    }\n",
       "\n",
       "    .dataframe thead th {\n",
       "        text-align: right;\n",
       "    }\n",
       "</style>\n",
       "<table border=\"1\" class=\"dataframe\">\n",
       "  <thead>\n",
       "    <tr style=\"text-align: right;\">\n",
       "      <th></th>\n",
       "      <th>Element ID</th>\n",
       "      <th>Tag name</th>\n",
       "      <th>Name</th>\n",
       "      <th>No. clicks</th>\n",
       "      <th>Visible?</th>\n",
       "      <th>Snapshot information</th>\n",
       "    </tr>\n",
       "  </thead>\n",
       "  <tbody>\n",
       "    <tr>\n",
       "      <th>0</th>\n",
       "      <td>69</td>\n",
       "      <td>a</td>\n",
       "      <td>FIND</td>\n",
       "      <td>397</td>\n",
       "      <td>True</td>\n",
       "      <td>Homepage Version 5 - Services   •   http://www...</td>\n",
       "    </tr>\n",
       "    <tr>\n",
       "      <th>1</th>\n",
       "      <td>61</td>\n",
       "      <td>input</td>\n",
       "      <td>s.q</td>\n",
       "      <td>323</td>\n",
       "      <td>True</td>\n",
       "      <td>created 5-29-2013   •   20 days 4 hours 59 min...</td>\n",
       "    </tr>\n",
       "    <tr>\n",
       "      <th>2</th>\n",
       "      <td>67</td>\n",
       "      <td>a</td>\n",
       "      <td>lib.montana.edu/find/</td>\n",
       "      <td>106</td>\n",
       "      <td>True</td>\n",
       "      <td>NaN</td>\n",
       "    </tr>\n",
       "    <tr>\n",
       "      <th>3</th>\n",
       "      <td>62</td>\n",
       "      <td>button</td>\n",
       "      <td>Search</td>\n",
       "      <td>85</td>\n",
       "      <td>True</td>\n",
       "      <td>NaN</td>\n",
       "    </tr>\n",
       "    <tr>\n",
       "      <th>4</th>\n",
       "      <td>98</td>\n",
       "      <td>a</td>\n",
       "      <td>Hours</td>\n",
       "      <td>81</td>\n",
       "      <td>True</td>\n",
       "      <td>NaN</td>\n",
       "    </tr>\n",
       "  </tbody>\n",
       "</table>\n",
       "</div>"
      ],
      "text/plain": [
       "   Element ID Tag name                   Name  No. clicks  Visible?  \\\n",
       "0          69        a                   FIND         397      True   \n",
       "1          61    input                    s.q         323      True   \n",
       "2          67        a  lib.montana.edu/find/         106      True   \n",
       "3          62   button                 Search          85      True   \n",
       "4          98        a                  Hours          81      True   \n",
       "\n",
       "                                Snapshot information  \n",
       "0  Homepage Version 5 - Services   •   http://www...  \n",
       "1  created 5-29-2013   •   20 days 4 hours 59 min...  \n",
       "2                                                NaN  \n",
       "3                                                NaN  \n",
       "4                                                NaN  "
      ]
     },
     "execution_count": 346,
     "metadata": {},
     "output_type": "execute_result"
    }
   ],
   "source": [
    "services.head()"
   ]
  },
  {
   "cell_type": "code",
   "execution_count": 347,
   "id": "fc643a58-fa6a-45f1-af2b-7d7518145a5a",
   "metadata": {},
   "outputs": [
    {
     "data": {
      "text/html": [
       "<div>\n",
       "<style scoped>\n",
       "    .dataframe tbody tr th:only-of-type {\n",
       "        vertical-align: middle;\n",
       "    }\n",
       "\n",
       "    .dataframe tbody tr th {\n",
       "        vertical-align: top;\n",
       "    }\n",
       "\n",
       "    .dataframe thead th {\n",
       "        text-align: right;\n",
       "    }\n",
       "</style>\n",
       "<table border=\"1\" class=\"dataframe\">\n",
       "  <thead>\n",
       "    <tr style=\"text-align: right;\">\n",
       "      <th></th>\n",
       "      <th>Element ID</th>\n",
       "      <th>Tag name</th>\n",
       "      <th>Name</th>\n",
       "      <th>No. clicks</th>\n",
       "      <th>Visible?</th>\n",
       "      <th>Snapshot information</th>\n",
       "    </tr>\n",
       "  </thead>\n",
       "  <tbody>\n",
       "    <tr>\n",
       "      <th>0</th>\n",
       "      <td>69</td>\n",
       "      <td>a</td>\n",
       "      <td>FIND</td>\n",
       "      <td>587</td>\n",
       "      <td>True</td>\n",
       "      <td>Homepage Version 3 - Learn   •   http://www.li...</td>\n",
       "    </tr>\n",
       "    <tr>\n",
       "      <th>1</th>\n",
       "      <td>61</td>\n",
       "      <td>input</td>\n",
       "      <td>s.q</td>\n",
       "      <td>325</td>\n",
       "      <td>True</td>\n",
       "      <td>created 5-29-2013   •   20 days 12 hours 21 mi...</td>\n",
       "    </tr>\n",
       "    <tr>\n",
       "      <th>2</th>\n",
       "      <td>67</td>\n",
       "      <td>a</td>\n",
       "      <td>lib.montana.edu/find/</td>\n",
       "      <td>142</td>\n",
       "      <td>True</td>\n",
       "      <td>NaN</td>\n",
       "    </tr>\n",
       "    <tr>\n",
       "      <th>3</th>\n",
       "      <td>128</td>\n",
       "      <td>area</td>\n",
       "      <td>Montana State University - Home</td>\n",
       "      <td>83</td>\n",
       "      <td>False</td>\n",
       "      <td>NaN</td>\n",
       "    </tr>\n",
       "    <tr>\n",
       "      <th>4</th>\n",
       "      <td>98</td>\n",
       "      <td>a</td>\n",
       "      <td>Hours</td>\n",
       "      <td>76</td>\n",
       "      <td>True</td>\n",
       "      <td>NaN</td>\n",
       "    </tr>\n",
       "  </tbody>\n",
       "</table>\n",
       "</div>"
      ],
      "text/plain": [
       "   Element ID Tag name                             Name  No. clicks  Visible?  \\\n",
       "0          69        a                             FIND         587      True   \n",
       "1          61    input                              s.q         325      True   \n",
       "2          67        a            lib.montana.edu/find/         142      True   \n",
       "3         128     area  Montana State University - Home          83     False   \n",
       "4          98        a                            Hours          76      True   \n",
       "\n",
       "                                Snapshot information  \n",
       "0  Homepage Version 3 - Learn   •   http://www.li...  \n",
       "1  created 5-29-2013   •   20 days 12 hours 21 mi...  \n",
       "2                                                NaN  \n",
       "3                                                NaN  \n",
       "4                                                NaN  "
      ]
     },
     "execution_count": 347,
     "metadata": {},
     "output_type": "execute_result"
    }
   ],
   "source": [
    "learn.head()"
   ]
  },
  {
   "cell_type": "code",
   "execution_count": 348,
   "id": "28a4c3db-a4d1-4c79-aa41-588a765e3a94",
   "metadata": {},
   "outputs": [
    {
     "data": {
      "text/html": [
       "<div>\n",
       "<style scoped>\n",
       "    .dataframe tbody tr th:only-of-type {\n",
       "        vertical-align: middle;\n",
       "    }\n",
       "\n",
       "    .dataframe tbody tr th {\n",
       "        vertical-align: top;\n",
       "    }\n",
       "\n",
       "    .dataframe thead th {\n",
       "        text-align: right;\n",
       "    }\n",
       "</style>\n",
       "<table border=\"1\" class=\"dataframe\">\n",
       "  <thead>\n",
       "    <tr style=\"text-align: right;\">\n",
       "      <th></th>\n",
       "      <th>Element ID</th>\n",
       "      <th>Tag name</th>\n",
       "      <th>Name</th>\n",
       "      <th>No. clicks</th>\n",
       "      <th>Visible?</th>\n",
       "      <th>Snapshot information</th>\n",
       "    </tr>\n",
       "  </thead>\n",
       "  <tbody>\n",
       "    <tr>\n",
       "      <th>0</th>\n",
       "      <td>74</td>\n",
       "      <td>a</td>\n",
       "      <td>FIND</td>\n",
       "      <td>502</td>\n",
       "      <td>True</td>\n",
       "      <td>Homepage Version 2 - Connect   •   http://www....</td>\n",
       "    </tr>\n",
       "    <tr>\n",
       "      <th>1</th>\n",
       "      <td>66</td>\n",
       "      <td>input</td>\n",
       "      <td>s.q</td>\n",
       "      <td>357</td>\n",
       "      <td>True</td>\n",
       "      <td>created 5-29-2013   •   20 days 7 hours 34 min...</td>\n",
       "    </tr>\n",
       "    <tr>\n",
       "      <th>2</th>\n",
       "      <td>72</td>\n",
       "      <td>a</td>\n",
       "      <td>lib.montana.edu/find/</td>\n",
       "      <td>171</td>\n",
       "      <td>True</td>\n",
       "      <td>NaN</td>\n",
       "    </tr>\n",
       "    <tr>\n",
       "      <th>3</th>\n",
       "      <td>133</td>\n",
       "      <td>area</td>\n",
       "      <td>Montana State University Libraries - Home</td>\n",
       "      <td>83</td>\n",
       "      <td>False</td>\n",
       "      <td>NaN</td>\n",
       "    </tr>\n",
       "    <tr>\n",
       "      <th>4</th>\n",
       "      <td>103</td>\n",
       "      <td>a</td>\n",
       "      <td>Hours</td>\n",
       "      <td>74</td>\n",
       "      <td>True</td>\n",
       "      <td>NaN</td>\n",
       "    </tr>\n",
       "  </tbody>\n",
       "</table>\n",
       "</div>"
      ],
      "text/plain": [
       "   Element ID Tag name                                       Name  No. clicks  \\\n",
       "0          74        a                                       FIND         502   \n",
       "1          66    input                                        s.q         357   \n",
       "2          72        a                      lib.montana.edu/find/         171   \n",
       "3         133     area  Montana State University Libraries - Home          83   \n",
       "4         103        a                                      Hours          74   \n",
       "\n",
       "   Visible?                               Snapshot information  \n",
       "0      True  Homepage Version 2 - Connect   •   http://www....  \n",
       "1      True  created 5-29-2013   •   20 days 7 hours 34 min...  \n",
       "2      True                                                NaN  \n",
       "3     False                                                NaN  \n",
       "4      True                                                NaN  "
      ]
     },
     "execution_count": 348,
     "metadata": {},
     "output_type": "execute_result"
    }
   ],
   "source": [
    "connect.head()"
   ]
  },
  {
   "cell_type": "code",
   "execution_count": 349,
   "id": "99a505c9-987f-4283-b248-d1e0d61a628a",
   "metadata": {},
   "outputs": [
    {
     "data": {
      "text/html": [
       "<div>\n",
       "<style scoped>\n",
       "    .dataframe tbody tr th:only-of-type {\n",
       "        vertical-align: middle;\n",
       "    }\n",
       "\n",
       "    .dataframe tbody tr th {\n",
       "        vertical-align: top;\n",
       "    }\n",
       "\n",
       "    .dataframe thead th {\n",
       "        text-align: right;\n",
       "    }\n",
       "</style>\n",
       "<table border=\"1\" class=\"dataframe\">\n",
       "  <thead>\n",
       "    <tr style=\"text-align: right;\">\n",
       "      <th></th>\n",
       "      <th>Element ID</th>\n",
       "      <th>Tag name</th>\n",
       "      <th>Name</th>\n",
       "      <th>No. clicks</th>\n",
       "      <th>Visible?</th>\n",
       "      <th>Snapshot information</th>\n",
       "    </tr>\n",
       "  </thead>\n",
       "  <tbody>\n",
       "    <tr>\n",
       "      <th>0</th>\n",
       "      <td>128</td>\n",
       "      <td>area</td>\n",
       "      <td>Montana State University - Home</td>\n",
       "      <td>1291</td>\n",
       "      <td>False</td>\n",
       "      <td>Homepage Version 1 - Interact   •   http://www...</td>\n",
       "    </tr>\n",
       "    <tr>\n",
       "      <th>1</th>\n",
       "      <td>69</td>\n",
       "      <td>a</td>\n",
       "      <td>FIND</td>\n",
       "      <td>842</td>\n",
       "      <td>True</td>\n",
       "      <td>created 5-29-2013   •   20 days 4 hours 21 min...</td>\n",
       "    </tr>\n",
       "    <tr>\n",
       "      <th>2</th>\n",
       "      <td>61</td>\n",
       "      <td>input</td>\n",
       "      <td>s.q</td>\n",
       "      <td>508</td>\n",
       "      <td>True</td>\n",
       "      <td>NaN</td>\n",
       "    </tr>\n",
       "    <tr>\n",
       "      <th>3</th>\n",
       "      <td>67</td>\n",
       "      <td>a</td>\n",
       "      <td>lib.montana.edu/find/</td>\n",
       "      <td>166</td>\n",
       "      <td>True</td>\n",
       "      <td>NaN</td>\n",
       "    </tr>\n",
       "    <tr>\n",
       "      <th>4</th>\n",
       "      <td>78</td>\n",
       "      <td>a</td>\n",
       "      <td>REQUEST</td>\n",
       "      <td>151</td>\n",
       "      <td>True</td>\n",
       "      <td>NaN</td>\n",
       "    </tr>\n",
       "  </tbody>\n",
       "</table>\n",
       "</div>"
      ],
      "text/plain": [
       "   Element ID Tag name                             Name  No. clicks  Visible?  \\\n",
       "0         128     area  Montana State University - Home        1291     False   \n",
       "1          69        a                             FIND         842      True   \n",
       "2          61    input                              s.q         508      True   \n",
       "3          67        a            lib.montana.edu/find/         166      True   \n",
       "4          78        a                          REQUEST         151      True   \n",
       "\n",
       "                                Snapshot information  \n",
       "0  Homepage Version 1 - Interact   •   http://www...  \n",
       "1  created 5-29-2013   •   20 days 4 hours 21 min...  \n",
       "2                                                NaN  \n",
       "3                                                NaN  \n",
       "4                                                NaN  "
      ]
     },
     "execution_count": 349,
     "metadata": {},
     "output_type": "execute_result"
    }
   ],
   "source": [
    "interact.head()"
   ]
  },
  {
   "cell_type": "code",
   "execution_count": 350,
   "id": "3216128a-634b-483e-afa3-17bb8f33957b",
   "metadata": {},
   "outputs": [
    {
     "data": {
      "text/html": [
       "<div>\n",
       "<style scoped>\n",
       "    .dataframe tbody tr th:only-of-type {\n",
       "        vertical-align: middle;\n",
       "    }\n",
       "\n",
       "    .dataframe tbody tr th {\n",
       "        vertical-align: top;\n",
       "    }\n",
       "\n",
       "    .dataframe thead th {\n",
       "        text-align: right;\n",
       "    }\n",
       "</style>\n",
       "<table border=\"1\" class=\"dataframe\">\n",
       "  <thead>\n",
       "    <tr style=\"text-align: right;\">\n",
       "      <th></th>\n",
       "      <th>Element ID</th>\n",
       "      <th>Tag name</th>\n",
       "      <th>Name</th>\n",
       "      <th>No. clicks</th>\n",
       "      <th>Visible?</th>\n",
       "      <th>Snapshot information</th>\n",
       "      <th>visits</th>\n",
       "      <th>sum_clicks</th>\n",
       "    </tr>\n",
       "  </thead>\n",
       "  <tbody>\n",
       "    <tr>\n",
       "      <th>9</th>\n",
       "      <td>87</td>\n",
       "      <td>a</td>\n",
       "      <td>INTERACT</td>\n",
       "      <td>42</td>\n",
       "      <td>True</td>\n",
       "      <td>NaN</td>\n",
       "      <td>10283</td>\n",
       "      <td>3714</td>\n",
       "    </tr>\n",
       "  </tbody>\n",
       "</table>\n",
       "</div>"
      ],
      "text/plain": [
       "   Element ID Tag name      Name  No. clicks  Visible? Snapshot information  \\\n",
       "9          87        a  INTERACT          42      True                  NaN   \n",
       "\n",
       "   visits  sum_clicks  \n",
       "9   10283        3714  "
      ]
     },
     "execution_count": 350,
     "metadata": {},
     "output_type": "execute_result"
    }
   ],
   "source": [
    "interact_clicks=interact.loc[[9]]\n",
    "interact_clicks['visits'] = 10283\n",
    "interact_clicks['sum_clicks']=3714\n",
    "interact_clicks"
   ]
  },
  {
   "cell_type": "code",
   "execution_count": 351,
   "id": "93a66113-2cbb-4ae2-ab5f-4cc6db455edc",
   "metadata": {},
   "outputs": [
    {
     "data": {
      "text/html": [
       "<div>\n",
       "<style scoped>\n",
       "    .dataframe tbody tr th:only-of-type {\n",
       "        vertical-align: middle;\n",
       "    }\n",
       "\n",
       "    .dataframe tbody tr th {\n",
       "        vertical-align: top;\n",
       "    }\n",
       "\n",
       "    .dataframe thead th {\n",
       "        text-align: right;\n",
       "    }\n",
       "</style>\n",
       "<table border=\"1\" class=\"dataframe\">\n",
       "  <thead>\n",
       "    <tr style=\"text-align: right;\">\n",
       "      <th></th>\n",
       "      <th>Element ID</th>\n",
       "      <th>Tag name</th>\n",
       "      <th>Name</th>\n",
       "      <th>No. clicks</th>\n",
       "      <th>Visible?</th>\n",
       "      <th>Snapshot information</th>\n",
       "      <th>visits</th>\n",
       "      <th>sum_clicks</th>\n",
       "    </tr>\n",
       "  </thead>\n",
       "  <tbody>\n",
       "    <tr>\n",
       "      <th>7</th>\n",
       "      <td>87</td>\n",
       "      <td>a</td>\n",
       "      <td>SERVICES</td>\n",
       "      <td>45</td>\n",
       "      <td>True</td>\n",
       "      <td>NaN</td>\n",
       "      <td>2064</td>\n",
       "      <td>1348</td>\n",
       "    </tr>\n",
       "  </tbody>\n",
       "</table>\n",
       "</div>"
      ],
      "text/plain": [
       "   Element ID Tag name      Name  No. clicks  Visible? Snapshot information  \\\n",
       "7          87        a  SERVICES          45      True                  NaN   \n",
       "\n",
       "   visits  sum_clicks  \n",
       "7    2064        1348  "
      ]
     },
     "execution_count": 351,
     "metadata": {},
     "output_type": "execute_result"
    }
   ],
   "source": [
    "services_clicks=services.loc[[7]]\n",
    "services_clicks['visits'] = 2064\n",
    "services_clicks['sum_clicks']=1348\n",
    "services_clicks"
   ]
  },
  {
   "cell_type": "code",
   "execution_count": 352,
   "id": "37844748-c838-48a2-b30d-5ccd3d16aca5",
   "metadata": {},
   "outputs": [
    {
     "data": {
      "text/html": [
       "<div>\n",
       "<style scoped>\n",
       "    .dataframe tbody tr th:only-of-type {\n",
       "        vertical-align: middle;\n",
       "    }\n",
       "\n",
       "    .dataframe tbody tr th {\n",
       "        vertical-align: top;\n",
       "    }\n",
       "\n",
       "    .dataframe thead th {\n",
       "        text-align: right;\n",
       "    }\n",
       "</style>\n",
       "<table border=\"1\" class=\"dataframe\">\n",
       "  <thead>\n",
       "    <tr style=\"text-align: right;\">\n",
       "      <th></th>\n",
       "      <th>Element ID</th>\n",
       "      <th>Tag name</th>\n",
       "      <th>Name</th>\n",
       "      <th>No. clicks</th>\n",
       "      <th>Visible?</th>\n",
       "      <th>Snapshot information</th>\n",
       "      <th>visits</th>\n",
       "      <th>sum_clicks</th>\n",
       "    </tr>\n",
       "  </thead>\n",
       "  <tbody>\n",
       "    <tr>\n",
       "      <th>10</th>\n",
       "      <td>87</td>\n",
       "      <td>a</td>\n",
       "      <td>LEARN</td>\n",
       "      <td>21</td>\n",
       "      <td>True</td>\n",
       "      <td>NaN</td>\n",
       "      <td>2747</td>\n",
       "      <td>1652</td>\n",
       "    </tr>\n",
       "  </tbody>\n",
       "</table>\n",
       "</div>"
      ],
      "text/plain": [
       "    Element ID Tag name   Name  No. clicks  Visible? Snapshot information  \\\n",
       "10          87        a  LEARN          21      True                  NaN   \n",
       "\n",
       "    visits  sum_clicks  \n",
       "10    2747        1652  "
      ]
     },
     "execution_count": 352,
     "metadata": {},
     "output_type": "execute_result"
    }
   ],
   "source": [
    "learn_clicks=learn.loc[[10]]\n",
    "learn_clicks['visits'] = 2747\n",
    "learn_clicks['sum_clicks']=1652\n",
    "learn_clicks"
   ]
  },
  {
   "cell_type": "code",
   "execution_count": 353,
   "id": "520767c1-79af-4fe1-b5b6-d7daf8548250",
   "metadata": {},
   "outputs": [],
   "source": [
    "help_clicks=help.loc[[7]]"
   ]
  },
  {
   "cell_type": "code",
   "execution_count": 354,
   "id": "470c262c-39d4-48c8-a868-50ecf21c3e79",
   "metadata": {},
   "outputs": [],
   "source": [
    "help_clicks['visits'] = 3180"
   ]
  },
  {
   "cell_type": "code",
   "execution_count": 355,
   "id": "102d6cff-417d-4b03-9bd8-c1a060263189",
   "metadata": {},
   "outputs": [],
   "source": [
    "help_clicks['sum_clicks']=1717"
   ]
  },
  {
   "cell_type": "code",
   "execution_count": 356,
   "id": "48c8af2a-dfc6-4908-b6b7-953f001233a0",
   "metadata": {},
   "outputs": [
    {
     "data": {
      "text/html": [
       "<div>\n",
       "<style scoped>\n",
       "    .dataframe tbody tr th:only-of-type {\n",
       "        vertical-align: middle;\n",
       "    }\n",
       "\n",
       "    .dataframe tbody tr th {\n",
       "        vertical-align: top;\n",
       "    }\n",
       "\n",
       "    .dataframe thead th {\n",
       "        text-align: right;\n",
       "    }\n",
       "</style>\n",
       "<table border=\"1\" class=\"dataframe\">\n",
       "  <thead>\n",
       "    <tr style=\"text-align: right;\">\n",
       "      <th></th>\n",
       "      <th>Element ID</th>\n",
       "      <th>Tag name</th>\n",
       "      <th>Name</th>\n",
       "      <th>No. clicks</th>\n",
       "      <th>Visible?</th>\n",
       "      <th>Snapshot information</th>\n",
       "      <th>visits</th>\n",
       "      <th>sum_clicks</th>\n",
       "    </tr>\n",
       "  </thead>\n",
       "  <tbody>\n",
       "    <tr>\n",
       "      <th>7</th>\n",
       "      <td>92</td>\n",
       "      <td>a</td>\n",
       "      <td>HELP</td>\n",
       "      <td>38</td>\n",
       "      <td>True</td>\n",
       "      <td>NaN</td>\n",
       "      <td>3180</td>\n",
       "      <td>1717</td>\n",
       "    </tr>\n",
       "  </tbody>\n",
       "</table>\n",
       "</div>"
      ],
      "text/plain": [
       "   Element ID Tag name  Name  No. clicks  Visible? Snapshot information  \\\n",
       "7          92        a  HELP          38      True                  NaN   \n",
       "\n",
       "   visits  sum_clicks  \n",
       "7    3180        1717  "
      ]
     },
     "execution_count": 356,
     "metadata": {},
     "output_type": "execute_result"
    }
   ],
   "source": [
    "help_clicks"
   ]
  },
  {
   "cell_type": "code",
   "execution_count": 357,
   "id": "fb135216-a554-442e-8728-0127155e4cb6",
   "metadata": {},
   "outputs": [
    {
     "data": {
      "text/html": [
       "<div>\n",
       "<style scoped>\n",
       "    .dataframe tbody tr th:only-of-type {\n",
       "        vertical-align: middle;\n",
       "    }\n",
       "\n",
       "    .dataframe tbody tr th {\n",
       "        vertical-align: top;\n",
       "    }\n",
       "\n",
       "    .dataframe thead th {\n",
       "        text-align: right;\n",
       "    }\n",
       "</style>\n",
       "<table border=\"1\" class=\"dataframe\">\n",
       "  <thead>\n",
       "    <tr style=\"text-align: right;\">\n",
       "      <th></th>\n",
       "      <th>Element ID</th>\n",
       "      <th>Tag name</th>\n",
       "      <th>Name</th>\n",
       "      <th>No. clicks</th>\n",
       "      <th>Visible?</th>\n",
       "      <th>Snapshot information</th>\n",
       "      <th>visits</th>\n",
       "      <th>sum_clicks</th>\n",
       "    </tr>\n",
       "  </thead>\n",
       "  <tbody>\n",
       "    <tr>\n",
       "      <th>6</th>\n",
       "      <td>92</td>\n",
       "      <td>a</td>\n",
       "      <td>CONNECT</td>\n",
       "      <td>53</td>\n",
       "      <td>True</td>\n",
       "      <td>NaN</td>\n",
       "      <td>2742</td>\n",
       "      <td>1587</td>\n",
       "    </tr>\n",
       "  </tbody>\n",
       "</table>\n",
       "</div>"
      ],
      "text/plain": [
       "   Element ID Tag name     Name  No. clicks  Visible? Snapshot information  \\\n",
       "6          92        a  CONNECT          53      True                  NaN   \n",
       "\n",
       "   visits  sum_clicks  \n",
       "6    2742        1587  "
      ]
     },
     "execution_count": 357,
     "metadata": {},
     "output_type": "execute_result"
    }
   ],
   "source": [
    "connect_clicks=connect.loc[[6]]\n",
    "connect_clicks['visits'] = 2742\n",
    "connect_clicks['sum_clicks']=1587\n",
    "connect_clicks"
   ]
  },
  {
   "cell_type": "code",
   "execution_count": 358,
   "id": "b9d39c1a-3298-498d-a6dd-09b91df53278",
   "metadata": {},
   "outputs": [
    {
     "data": {
      "text/html": [
       "<div>\n",
       "<style scoped>\n",
       "    .dataframe tbody tr th:only-of-type {\n",
       "        vertical-align: middle;\n",
       "    }\n",
       "\n",
       "    .dataframe tbody tr th {\n",
       "        vertical-align: top;\n",
       "    }\n",
       "\n",
       "    .dataframe thead th {\n",
       "        text-align: right;\n",
       "    }\n",
       "</style>\n",
       "<table border=\"1\" class=\"dataframe\">\n",
       "  <thead>\n",
       "    <tr style=\"text-align: right;\">\n",
       "      <th></th>\n",
       "      <th>Element ID</th>\n",
       "      <th>Tag name</th>\n",
       "      <th>Name</th>\n",
       "      <th>No. clicks</th>\n",
       "      <th>Visible?</th>\n",
       "      <th>Snapshot information</th>\n",
       "      <th>visits</th>\n",
       "      <th>sum_clicks</th>\n",
       "    </tr>\n",
       "  </thead>\n",
       "  <tbody>\n",
       "    <tr>\n",
       "      <th>9</th>\n",
       "      <td>87</td>\n",
       "      <td>a</td>\n",
       "      <td>INTERACT</td>\n",
       "      <td>42</td>\n",
       "      <td>True</td>\n",
       "      <td>NaN</td>\n",
       "      <td>10283</td>\n",
       "      <td>3714</td>\n",
       "    </tr>\n",
       "    <tr>\n",
       "      <th>7</th>\n",
       "      <td>87</td>\n",
       "      <td>a</td>\n",
       "      <td>SERVICES</td>\n",
       "      <td>45</td>\n",
       "      <td>True</td>\n",
       "      <td>NaN</td>\n",
       "      <td>2064</td>\n",
       "      <td>1348</td>\n",
       "    </tr>\n",
       "    <tr>\n",
       "      <th>6</th>\n",
       "      <td>92</td>\n",
       "      <td>a</td>\n",
       "      <td>CONNECT</td>\n",
       "      <td>53</td>\n",
       "      <td>True</td>\n",
       "      <td>NaN</td>\n",
       "      <td>2742</td>\n",
       "      <td>1587</td>\n",
       "    </tr>\n",
       "    <tr>\n",
       "      <th>7</th>\n",
       "      <td>92</td>\n",
       "      <td>a</td>\n",
       "      <td>HELP</td>\n",
       "      <td>38</td>\n",
       "      <td>True</td>\n",
       "      <td>NaN</td>\n",
       "      <td>3180</td>\n",
       "      <td>1717</td>\n",
       "    </tr>\n",
       "    <tr>\n",
       "      <th>10</th>\n",
       "      <td>87</td>\n",
       "      <td>a</td>\n",
       "      <td>LEARN</td>\n",
       "      <td>21</td>\n",
       "      <td>True</td>\n",
       "      <td>NaN</td>\n",
       "      <td>2747</td>\n",
       "      <td>1652</td>\n",
       "    </tr>\n",
       "  </tbody>\n",
       "</table>\n",
       "</div>"
      ],
      "text/plain": [
       "    Element ID Tag name      Name  No. clicks  Visible? Snapshot information  \\\n",
       "9           87        a  INTERACT          42      True                  NaN   \n",
       "7           87        a  SERVICES          45      True                  NaN   \n",
       "6           92        a   CONNECT          53      True                  NaN   \n",
       "7           92        a      HELP          38      True                  NaN   \n",
       "10          87        a     LEARN          21      True                  NaN   \n",
       "\n",
       "    visits  sum_clicks  \n",
       "9    10283        3714  \n",
       "7     2064        1348  \n",
       "6     2742        1587  \n",
       "7     3180        1717  \n",
       "10    2747        1652  "
      ]
     },
     "execution_count": 358,
     "metadata": {},
     "output_type": "execute_result"
    }
   ],
   "source": [
    "versions_clicks=pd.concat([interact_clicks,services_clicks,connect_clicks,help_clicks,learn_clicks])\n",
    "versions_clicks"
   ]
  },
  {
   "cell_type": "code",
   "execution_count": 359,
   "id": "bb902e35-641f-4f75-8a19-7575c470496b",
   "metadata": {},
   "outputs": [],
   "source": [
    "versions_clicks[\"CTR\"]= (versions_clicks[\"No. clicks\"]/versions_clicks[\"visits\"])*100"
   ]
  },
  {
   "cell_type": "code",
   "execution_count": 360,
   "id": "5119d051-d4a1-4b32-a1e2-d02418d1982d",
   "metadata": {},
   "outputs": [
    {
     "data": {
      "text/html": [
       "<div>\n",
       "<style scoped>\n",
       "    .dataframe tbody tr th:only-of-type {\n",
       "        vertical-align: middle;\n",
       "    }\n",
       "\n",
       "    .dataframe tbody tr th {\n",
       "        vertical-align: top;\n",
       "    }\n",
       "\n",
       "    .dataframe thead th {\n",
       "        text-align: right;\n",
       "    }\n",
       "</style>\n",
       "<table border=\"1\" class=\"dataframe\">\n",
       "  <thead>\n",
       "    <tr style=\"text-align: right;\">\n",
       "      <th></th>\n",
       "      <th>Element ID</th>\n",
       "      <th>Tag name</th>\n",
       "      <th>Name</th>\n",
       "      <th>No. clicks</th>\n",
       "      <th>Visible?</th>\n",
       "      <th>Snapshot information</th>\n",
       "      <th>visits</th>\n",
       "      <th>sum_clicks</th>\n",
       "      <th>CTR</th>\n",
       "    </tr>\n",
       "  </thead>\n",
       "  <tbody>\n",
       "    <tr>\n",
       "      <th>9</th>\n",
       "      <td>87</td>\n",
       "      <td>a</td>\n",
       "      <td>INTERACT</td>\n",
       "      <td>42</td>\n",
       "      <td>True</td>\n",
       "      <td>NaN</td>\n",
       "      <td>10283</td>\n",
       "      <td>3714</td>\n",
       "      <td>0.408441</td>\n",
       "    </tr>\n",
       "    <tr>\n",
       "      <th>10</th>\n",
       "      <td>87</td>\n",
       "      <td>a</td>\n",
       "      <td>LEARN</td>\n",
       "      <td>21</td>\n",
       "      <td>True</td>\n",
       "      <td>NaN</td>\n",
       "      <td>2747</td>\n",
       "      <td>1652</td>\n",
       "      <td>0.764470</td>\n",
       "    </tr>\n",
       "    <tr>\n",
       "      <th>7</th>\n",
       "      <td>92</td>\n",
       "      <td>a</td>\n",
       "      <td>HELP</td>\n",
       "      <td>38</td>\n",
       "      <td>True</td>\n",
       "      <td>NaN</td>\n",
       "      <td>3180</td>\n",
       "      <td>1717</td>\n",
       "      <td>1.194969</td>\n",
       "    </tr>\n",
       "    <tr>\n",
       "      <th>6</th>\n",
       "      <td>92</td>\n",
       "      <td>a</td>\n",
       "      <td>CONNECT</td>\n",
       "      <td>53</td>\n",
       "      <td>True</td>\n",
       "      <td>NaN</td>\n",
       "      <td>2742</td>\n",
       "      <td>1587</td>\n",
       "      <td>1.932896</td>\n",
       "    </tr>\n",
       "    <tr>\n",
       "      <th>7</th>\n",
       "      <td>87</td>\n",
       "      <td>a</td>\n",
       "      <td>SERVICES</td>\n",
       "      <td>45</td>\n",
       "      <td>True</td>\n",
       "      <td>NaN</td>\n",
       "      <td>2064</td>\n",
       "      <td>1348</td>\n",
       "      <td>2.180233</td>\n",
       "    </tr>\n",
       "  </tbody>\n",
       "</table>\n",
       "</div>"
      ],
      "text/plain": [
       "    Element ID Tag name      Name  No. clicks  Visible? Snapshot information  \\\n",
       "9           87        a  INTERACT          42      True                  NaN   \n",
       "10          87        a     LEARN          21      True                  NaN   \n",
       "7           92        a      HELP          38      True                  NaN   \n",
       "6           92        a   CONNECT          53      True                  NaN   \n",
       "7           87        a  SERVICES          45      True                  NaN   \n",
       "\n",
       "    visits  sum_clicks       CTR  \n",
       "9    10283        3714  0.408441  \n",
       "10    2747        1652  0.764470  \n",
       "7     3180        1717  1.194969  \n",
       "6     2742        1587  1.932896  \n",
       "7     2064        1348  2.180233  "
      ]
     },
     "execution_count": 360,
     "metadata": {},
     "output_type": "execute_result"
    }
   ],
   "source": [
    "versions_clicks.sort_values(by=\"CTR\",ascending=True)"
   ]
  },
  {
   "cell_type": "markdown",
   "id": "22286435-fad6-40cb-ac2e-091c46ccd59b",
   "metadata": {},
   "source": [
    "Following the right example"
   ]
  },
  {
   "cell_type": "code",
   "execution_count": 361,
   "id": "a4e79d4b-e5a0-454c-88a6-c7f6763ca765",
   "metadata": {},
   "outputs": [],
   "source": [
    "Clicks=[42,45,53,38,21]\n",
    "No_clicks=[10241,2019,2689,3142,2726]"
   ]
  },
  {
   "cell_type": "code",
   "execution_count": 362,
   "id": "301cc5c3-cc99-4069-9c88-942c786dadd9",
   "metadata": {},
   "outputs": [],
   "source": [
    "observed = pd.DataFrame([Clicks, No_clicks],\n",
    "                           columns = [\"interact\", \"services\", \"connect\",\"help\",\"learn\"],\n",
    "                           index = [\"Clicks\", \"No-clicks\"])"
   ]
  },
  {
   "cell_type": "code",
   "execution_count": 363,
   "id": "c6f03626-91c7-40ad-affa-bc9c8d18e8d4",
   "metadata": {},
   "outputs": [
    {
     "data": {
      "text/html": [
       "<div>\n",
       "<style scoped>\n",
       "    .dataframe tbody tr th:only-of-type {\n",
       "        vertical-align: middle;\n",
       "    }\n",
       "\n",
       "    .dataframe tbody tr th {\n",
       "        vertical-align: top;\n",
       "    }\n",
       "\n",
       "    .dataframe thead th {\n",
       "        text-align: right;\n",
       "    }\n",
       "</style>\n",
       "<table border=\"1\" class=\"dataframe\">\n",
       "  <thead>\n",
       "    <tr style=\"text-align: right;\">\n",
       "      <th></th>\n",
       "      <th>interact</th>\n",
       "      <th>services</th>\n",
       "      <th>connect</th>\n",
       "      <th>help</th>\n",
       "      <th>learn</th>\n",
       "    </tr>\n",
       "  </thead>\n",
       "  <tbody>\n",
       "    <tr>\n",
       "      <th>Clicks</th>\n",
       "      <td>42</td>\n",
       "      <td>45</td>\n",
       "      <td>53</td>\n",
       "      <td>38</td>\n",
       "      <td>21</td>\n",
       "    </tr>\n",
       "    <tr>\n",
       "      <th>No-clicks</th>\n",
       "      <td>10241</td>\n",
       "      <td>2019</td>\n",
       "      <td>2689</td>\n",
       "      <td>3142</td>\n",
       "      <td>2726</td>\n",
       "    </tr>\n",
       "  </tbody>\n",
       "</table>\n",
       "</div>"
      ],
      "text/plain": [
       "           interact  services  connect  help  learn\n",
       "Clicks           42        45       53    38     21\n",
       "No-clicks     10241      2019     2689  3142   2726"
      ]
     },
     "execution_count": 363,
     "metadata": {},
     "output_type": "execute_result"
    }
   ],
   "source": [
    "observed"
   ]
  },
  {
   "cell_type": "code",
   "execution_count": 364,
   "id": "e03e111f-dd0a-4961-836f-bbe67f7a5d10",
   "metadata": {},
   "outputs": [],
   "source": [
    "exp_clicks=[97,20,26,30,26]\n",
    "exp_no_clicks=[10186,2044,2716,3149,272]"
   ]
  },
  {
   "cell_type": "code",
   "execution_count": 368,
   "id": "ac99283c-4d67-4b52-8ff8-a5f03a4fcbf1",
   "metadata": {},
   "outputs": [],
   "source": [
    "expected = pd.DataFrame([exp_clicks,exp_no_clicks],\n",
    "                           columns = [\"interact\", \"services\", \"connect\",\"help\",\"learn\"],\n",
    "                           index = [\"Clicks\", \"No-clicks\"])"
   ]
  },
  {
   "cell_type": "code",
   "execution_count": 378,
   "id": "bb1bde1d-00ee-4851-9e39-4f4b7f0dcdfd",
   "metadata": {},
   "outputs": [
    {
     "data": {
      "text/html": [
       "<div>\n",
       "<style scoped>\n",
       "    .dataframe tbody tr th:only-of-type {\n",
       "        vertical-align: middle;\n",
       "    }\n",
       "\n",
       "    .dataframe tbody tr th {\n",
       "        vertical-align: top;\n",
       "    }\n",
       "\n",
       "    .dataframe thead th {\n",
       "        text-align: right;\n",
       "    }\n",
       "</style>\n",
       "<table border=\"1\" class=\"dataframe\">\n",
       "  <thead>\n",
       "    <tr style=\"text-align: right;\">\n",
       "      <th></th>\n",
       "      <th>interact</th>\n",
       "      <th>services</th>\n",
       "      <th>connect</th>\n",
       "      <th>help</th>\n",
       "      <th>learn</th>\n",
       "    </tr>\n",
       "  </thead>\n",
       "  <tbody>\n",
       "    <tr>\n",
       "      <th>Clicks</th>\n",
       "      <td>42</td>\n",
       "      <td>45</td>\n",
       "      <td>53</td>\n",
       "      <td>38</td>\n",
       "      <td>21</td>\n",
       "    </tr>\n",
       "    <tr>\n",
       "      <th>No-clicks</th>\n",
       "      <td>10241</td>\n",
       "      <td>2019</td>\n",
       "      <td>2689</td>\n",
       "      <td>3142</td>\n",
       "      <td>2726</td>\n",
       "    </tr>\n",
       "  </tbody>\n",
       "</table>\n",
       "</div>"
      ],
      "text/plain": [
       "           interact  services  connect  help  learn\n",
       "Clicks           42        45       53    38     21\n",
       "No-clicks     10241      2019     2689  3142   2726"
      ]
     },
     "execution_count": 378,
     "metadata": {},
     "output_type": "execute_result"
    }
   ],
   "source": [
    "observed"
   ]
  },
  {
   "cell_type": "code",
   "execution_count": 379,
   "id": "bae6d513-1ac9-4b15-bcba-d73474f39001",
   "metadata": {},
   "outputs": [
    {
     "data": {
      "text/html": [
       "<div>\n",
       "<style scoped>\n",
       "    .dataframe tbody tr th:only-of-type {\n",
       "        vertical-align: middle;\n",
       "    }\n",
       "\n",
       "    .dataframe tbody tr th {\n",
       "        vertical-align: top;\n",
       "    }\n",
       "\n",
       "    .dataframe thead th {\n",
       "        text-align: right;\n",
       "    }\n",
       "</style>\n",
       "<table border=\"1\" class=\"dataframe\">\n",
       "  <thead>\n",
       "    <tr style=\"text-align: right;\">\n",
       "      <th></th>\n",
       "      <th>interact</th>\n",
       "      <th>services</th>\n",
       "      <th>connect</th>\n",
       "      <th>help</th>\n",
       "      <th>learn</th>\n",
       "    </tr>\n",
       "  </thead>\n",
       "  <tbody>\n",
       "    <tr>\n",
       "      <th>Clicks</th>\n",
       "      <td>97</td>\n",
       "      <td>20</td>\n",
       "      <td>26</td>\n",
       "      <td>30</td>\n",
       "      <td>26</td>\n",
       "    </tr>\n",
       "    <tr>\n",
       "      <th>No-clicks</th>\n",
       "      <td>10186</td>\n",
       "      <td>2044</td>\n",
       "      <td>2716</td>\n",
       "      <td>3149</td>\n",
       "      <td>272</td>\n",
       "    </tr>\n",
       "  </tbody>\n",
       "</table>\n",
       "</div>"
      ],
      "text/plain": [
       "           interact  services  connect  help  learn\n",
       "Clicks           97        20       26    30     26\n",
       "No-clicks     10186      2044     2716  3149    272"
      ]
     },
     "execution_count": 379,
     "metadata": {},
     "output_type": "execute_result"
    }
   ],
   "source": [
    "expected"
   ]
  },
  {
   "cell_type": "code",
   "execution_count": 380,
   "id": "9892e20e-3f88-46ab-8bce-5835521784ab",
   "metadata": {},
   "outputs": [
    {
     "data": {
      "text/html": [
       "<div>\n",
       "<style scoped>\n",
       "    .dataframe tbody tr th:only-of-type {\n",
       "        vertical-align: middle;\n",
       "    }\n",
       "\n",
       "    .dataframe tbody tr th {\n",
       "        vertical-align: top;\n",
       "    }\n",
       "\n",
       "    .dataframe thead th {\n",
       "        text-align: right;\n",
       "    }\n",
       "</style>\n",
       "<table border=\"1\" class=\"dataframe\">\n",
       "  <thead>\n",
       "    <tr style=\"text-align: right;\">\n",
       "      <th></th>\n",
       "      <th>interact</th>\n",
       "      <th>services</th>\n",
       "      <th>connect</th>\n",
       "      <th>help</th>\n",
       "      <th>learn</th>\n",
       "    </tr>\n",
       "  </thead>\n",
       "  <tbody>\n",
       "    <tr>\n",
       "      <th>Clicks</th>\n",
       "      <td>-55</td>\n",
       "      <td>25</td>\n",
       "      <td>27</td>\n",
       "      <td>8</td>\n",
       "      <td>-5</td>\n",
       "    </tr>\n",
       "    <tr>\n",
       "      <th>No-clicks</th>\n",
       "      <td>55</td>\n",
       "      <td>-25</td>\n",
       "      <td>-27</td>\n",
       "      <td>-7</td>\n",
       "      <td>2454</td>\n",
       "    </tr>\n",
       "  </tbody>\n",
       "</table>\n",
       "</div>"
      ],
      "text/plain": [
       "           interact  services  connect  help  learn\n",
       "Clicks          -55        25       27     8     -5\n",
       "No-clicks        55       -25      -27    -7   2454"
      ]
     },
     "execution_count": 380,
     "metadata": {},
     "output_type": "execute_result"
    }
   ],
   "source": [
    "observed - expected"
   ]
  },
  {
   "cell_type": "code",
   "execution_count": 372,
   "id": "e46e9ac1-eec0-48a4-9a2c-7f19442223f1",
   "metadata": {},
   "outputs": [
    {
     "data": {
      "text/html": [
       "<div>\n",
       "<style scoped>\n",
       "    .dataframe tbody tr th:only-of-type {\n",
       "        vertical-align: middle;\n",
       "    }\n",
       "\n",
       "    .dataframe tbody tr th {\n",
       "        vertical-align: top;\n",
       "    }\n",
       "\n",
       "    .dataframe thead th {\n",
       "        text-align: right;\n",
       "    }\n",
       "</style>\n",
       "<table border=\"1\" class=\"dataframe\">\n",
       "  <thead>\n",
       "    <tr style=\"text-align: right;\">\n",
       "      <th></th>\n",
       "      <th>interact</th>\n",
       "      <th>services</th>\n",
       "      <th>connect</th>\n",
       "      <th>help</th>\n",
       "      <th>learn</th>\n",
       "    </tr>\n",
       "  </thead>\n",
       "  <tbody>\n",
       "    <tr>\n",
       "      <th>Clicks</th>\n",
       "      <td>-5.584404</td>\n",
       "      <td>5.590170</td>\n",
       "      <td>5.295136</td>\n",
       "      <td>1.460593</td>\n",
       "      <td>-0.980581</td>\n",
       "    </tr>\n",
       "    <tr>\n",
       "      <th>No-clicks</th>\n",
       "      <td>0.544955</td>\n",
       "      <td>-0.552967</td>\n",
       "      <td>-0.518082</td>\n",
       "      <td>-0.124742</td>\n",
       "      <td>148.795606</td>\n",
       "    </tr>\n",
       "  </tbody>\n",
       "</table>\n",
       "</div>"
      ],
      "text/plain": [
       "           interact  services   connect      help       learn\n",
       "Clicks    -5.584404  5.590170  5.295136  1.460593   -0.980581\n",
       "No-clicks  0.544955 -0.552967 -0.518082 -0.124742  148.795606"
      ]
     },
     "execution_count": 372,
     "metadata": {},
     "output_type": "execute_result"
    }
   ],
   "source": [
    "import numpy as np\n",
    "def pearson_residuals(obs, exp):\n",
    "    return (obs - exp) / (np.sqrt(exp))\n",
    "\n",
    "R = pearson_residuals(observed, expected)\n",
    "R"
   ]
  },
  {
   "cell_type": "code",
   "execution_count": 377,
   "id": "9971097c-f3e6-4c9e-ac2c-1d084fda6cae",
   "metadata": {},
   "outputs": [
    {
     "data": {
      "text/plain": [
       "22234.587972441866"
      ]
     },
     "execution_count": 377,
     "metadata": {},
     "output_type": "execute_result"
    }
   ],
   "source": [
    "R = pearson_residuals(observed, expected)\n",
    "R = R**2\n",
    "chi2observed = R.sum().sum()\n",
    "chi2observed"
   ]
  },
  {
   "cell_type": "code",
   "execution_count": 381,
   "id": "f0b8a8a5-2b75-478d-8028-8a5522d1120b",
   "metadata": {},
   "outputs": [
    {
     "data": {
      "text/plain": [
       "4.852334301093838e-20"
      ]
     },
     "execution_count": 381,
     "metadata": {},
     "output_type": "execute_result"
    }
   ],
   "source": [
    "from scipy import stats\n",
    "chisq, pvalue, df, expected = stats.chi2_contingency(observed)\n",
    "pvalue"
   ]
  },
  {
   "cell_type": "code",
   "execution_count": 382,
   "id": "12da7664-069d-4952-8767-12d6df767881",
   "metadata": {},
   "outputs": [
    {
     "data": {
      "text/plain": [
       "96.7432353798328"
      ]
     },
     "execution_count": 382,
     "metadata": {},
     "output_type": "execute_result"
    }
   ],
   "source": [
    "chisq"
   ]
  },
  {
   "cell_type": "code",
   "execution_count": 383,
   "id": "6b71fbf5-3893-40a4-8bcd-a37fcfe0f1e4",
   "metadata": {},
   "outputs": [
    {
     "data": {
      "text/plain": [
       "4"
      ]
     },
     "execution_count": 383,
     "metadata": {},
     "output_type": "execute_result"
    }
   ],
   "source": [
    "df"
   ]
  },
  {
   "cell_type": "markdown",
   "id": "d599c657-0244-4e51-9435-2ba39444637f",
   "metadata": {},
   "source": [
    "other way"
   ]
  },
  {
   "cell_type": "code",
   "execution_count": 231,
   "id": "43d2c3f2-7435-45bd-9604-02a933d681d0",
   "metadata": {},
   "outputs": [],
   "source": [
    "#h0=The 5 versions of the button are equally likely to receive clicks, and the observed differences are due to chance.\n",
    "#h1=The observed differences are not due to chance: there are versions of the button that are more likely to receive clicks (i.e. they have a better CTR, a better performance)."
   ]
  },
  {
   "cell_type": "code",
   "execution_count": 232,
   "id": "a62e0fa1-bc15-4c2b-91a3-cb63eb9bede1",
   "metadata": {},
   "outputs": [
    {
     "data": {
      "text/html": [
       "<div>\n",
       "<style scoped>\n",
       "    .dataframe tbody tr th:only-of-type {\n",
       "        vertical-align: middle;\n",
       "    }\n",
       "\n",
       "    .dataframe tbody tr th {\n",
       "        vertical-align: top;\n",
       "    }\n",
       "\n",
       "    .dataframe thead th {\n",
       "        text-align: right;\n",
       "    }\n",
       "</style>\n",
       "<table border=\"1\" class=\"dataframe\">\n",
       "  <thead>\n",
       "    <tr style=\"text-align: right;\">\n",
       "      <th></th>\n",
       "      <th>interact</th>\n",
       "      <th>services</th>\n",
       "      <th>connect</th>\n",
       "      <th>help</th>\n",
       "      <th>learn</th>\n",
       "    </tr>\n",
       "  </thead>\n",
       "  <tbody>\n",
       "    <tr>\n",
       "      <th>Clicks</th>\n",
       "      <td>42</td>\n",
       "      <td>45</td>\n",
       "      <td>53</td>\n",
       "      <td>38</td>\n",
       "      <td>21</td>\n",
       "    </tr>\n",
       "    <tr>\n",
       "      <th>No-clicks</th>\n",
       "      <td>10241</td>\n",
       "      <td>2019</td>\n",
       "      <td>2689</td>\n",
       "      <td>3142</td>\n",
       "      <td>2726</td>\n",
       "    </tr>\n",
       "  </tbody>\n",
       "</table>\n",
       "</div>"
      ],
      "text/plain": [
       "           interact  services  connect  help  learn\n",
       "Clicks           42        45       53    38     21\n",
       "No-clicks     10241      2019     2689  3142   2726"
      ]
     },
     "execution_count": 232,
     "metadata": {},
     "output_type": "execute_result"
    }
   ],
   "source": [
    "observed"
   ]
  },
  {
   "cell_type": "code",
   "execution_count": 233,
   "id": "cba628e3-46ed-40c8-9bc7-75d9883332aa",
   "metadata": {},
   "outputs": [
    {
     "name": "stdout",
     "output_type": "stream",
     "text": [
      "P Value:\n",
      "4.852334301093838e-20\n"
     ]
    }
   ],
   "source": [
    "chi2, pval, dof, expected = chi2_contingency(observed, correction=False)\n",
    "print(\"P Value:\")\n",
    "print(pval)"
   ]
  },
  {
   "cell_type": "code",
   "execution_count": 234,
   "id": "55c29280-53f1-4a53-8c65-4a96f5ef6048",
   "metadata": {},
   "outputs": [
    {
     "name": "stdout",
     "output_type": "stream",
     "text": [
      "Chi2 Value:\n",
      "96.7432353798328\n"
     ]
    }
   ],
   "source": [
    "chi2, pval, dof, expected = chi2_contingency(observed, correction=False)\n",
    "print(\"Chi2 Value:\")\n",
    "print(chi2)"
   ]
  },
  {
   "cell_type": "code",
   "execution_count": 273,
   "id": "dc115298-a873-4a54-b9fc-e2e642567b52",
   "metadata": {},
   "outputs": [
    {
     "name": "stdout",
     "output_type": "stream",
     "text": [
      "Expected:\n",
      "[[   97.3694804     19.5439665     25.96393224    30.11134374\n",
      "     26.01127712]\n",
      " [10185.6305196   2044.4560335   2716.03606776  3149.88865626\n",
      "   2720.98872288]]\n"
     ]
    }
   ],
   "source": [
    "chi2, pval, dof, expected = chi2_contingency(observed, correction=False)\n",
    "print(\"Expected:\")\n",
    "print(expected)"
   ]
  },
  {
   "cell_type": "code",
   "execution_count": 270,
   "id": "9adcad4f-7f49-409f-8656-1edbcc3a0502",
   "metadata": {},
   "outputs": [
    {
     "name": "stdout",
     "output_type": "stream",
     "text": [
      "DOF:\n",
      "4\n"
     ]
    }
   ],
   "source": [
    "chi2, pval, dof, expected = chi2_contingency(observed, correction=False)\n",
    "print(\"DOF:\")\n",
    "print(dof)"
   ]
  },
  {
   "cell_type": "markdown",
   "id": "5bc5ee8c-06a3-4b8c-a27f-7a413b27d0ad",
   "metadata": {},
   "source": [
    "#The chi-squared statistic is a single number that tells you how much difference exists between your observed counts and the counts you would expect if there were no relationship at all in the population. ... A low value for chi-square means there is a high correlation between your two sets of data."
   ]
  },
  {
   "cell_type": "code",
   "execution_count": 235,
   "id": "e8edd579-68fe-41e5-9644-030daaacb98a",
   "metadata": {},
   "outputs": [
    {
     "name": "stdout",
     "output_type": "stream",
     "text": [
      "significant\n"
     ]
    }
   ],
   "source": [
    "result = ('significant' if pval < 0.1 else 'not significant')\n",
    "print(result)"
   ]
  },
  {
   "cell_type": "code",
   "execution_count": 236,
   "id": "c895b8a9-36ba-406f-8449-3154b9e4f23b",
   "metadata": {},
   "outputs": [],
   "source": [
    "#h0=The4 versions of the button are equally likely to receive clicks, and the observed differences are due to chance.\n",
    "#h1=The observed differences are not due to chance: there are versions of the button that are more likely to receive clicks (i.e. they have a better CTR, a better performance)."
   ]
  },
  {
   "cell_type": "code",
   "execution_count": null,
   "id": "2207bfd2-45c2-4ea4-8e9e-f9e14b3306d2",
   "metadata": {},
   "outputs": [],
   "source": [
    "#6 comparisons\n",
    "#new p value= 0.016"
   ]
  },
  {
   "cell_type": "code",
   "execution_count": 237,
   "id": "53dd5f35-645e-4d93-8bd8-3743b0e72ff1",
   "metadata": {},
   "outputs": [],
   "source": [
    "observed1=observed.drop(\"interact\", axis=1)"
   ]
  },
  {
   "cell_type": "code",
   "execution_count": 297,
   "id": "c60c77ec-2c7a-448a-8952-9f22da897728",
   "metadata": {},
   "outputs": [
    {
     "data": {
      "text/html": [
       "<div>\n",
       "<style scoped>\n",
       "    .dataframe tbody tr th:only-of-type {\n",
       "        vertical-align: middle;\n",
       "    }\n",
       "\n",
       "    .dataframe tbody tr th {\n",
       "        vertical-align: top;\n",
       "    }\n",
       "\n",
       "    .dataframe thead th {\n",
       "        text-align: right;\n",
       "    }\n",
       "</style>\n",
       "<table border=\"1\" class=\"dataframe\">\n",
       "  <thead>\n",
       "    <tr style=\"text-align: right;\">\n",
       "      <th></th>\n",
       "      <th>services</th>\n",
       "      <th>connect</th>\n",
       "      <th>help</th>\n",
       "      <th>learn</th>\n",
       "    </tr>\n",
       "  </thead>\n",
       "  <tbody>\n",
       "    <tr>\n",
       "      <th>Clicks</th>\n",
       "      <td>45</td>\n",
       "      <td>53</td>\n",
       "      <td>38</td>\n",
       "      <td>21</td>\n",
       "    </tr>\n",
       "    <tr>\n",
       "      <th>No-clicks</th>\n",
       "      <td>2019</td>\n",
       "      <td>2689</td>\n",
       "      <td>3142</td>\n",
       "      <td>2726</td>\n",
       "    </tr>\n",
       "  </tbody>\n",
       "</table>\n",
       "</div>"
      ],
      "text/plain": [
       "           services  connect  help  learn\n",
       "Clicks           45       53    38     21\n",
       "No-clicks      2019     2689  3142   2726"
      ]
     },
     "execution_count": 297,
     "metadata": {},
     "output_type": "execute_result"
    }
   ],
   "source": [
    "observed1"
   ]
  },
  {
   "cell_type": "code",
   "execution_count": 298,
   "id": "c106f5cf-e4ee-4c95-ab42-285c1f12a899",
   "metadata": {},
   "outputs": [
    {
     "name": "stdout",
     "output_type": "stream",
     "text": [
      "P Value:\n",
      "5.255098702285646e-05\n"
     ]
    }
   ],
   "source": [
    "chi2, pval, dof, expected = chi2_contingency(observed1, correction=False)\n",
    "print(\"P Value:\")\n",
    "print(pval)"
   ]
  },
  {
   "cell_type": "code",
   "execution_count": 299,
   "id": "69f13458-dba2-419e-97aa-79027db13d7d",
   "metadata": {},
   "outputs": [
    {
     "name": "stdout",
     "output_type": "stream",
     "text": [
      "Chi2 Value:\n",
      "22.45097953040183\n"
     ]
    }
   ],
   "source": [
    "chi2, pval, dof, expected = chi2_contingency(observed1, correction=False)\n",
    "print(\"Chi2 Value:\")\n",
    "print(chi2)"
   ]
  },
  {
   "cell_type": "code",
   "execution_count": 300,
   "id": "4d2e69e9-5f0a-4596-90a6-75deb6c377c9",
   "metadata": {},
   "outputs": [
    {
     "name": "stdout",
     "output_type": "stream",
     "text": [
      "significant\n"
     ]
    }
   ],
   "source": [
    "result = ('significant' if pval < 0.016 else 'not significant')\n",
    "print(result)"
   ]
  },
  {
   "cell_type": "markdown",
   "id": "5941a3f6-92eb-4588-b129-6db8306e48f5",
   "metadata": {},
   "source": [
    "<strong>Post Hoc Tests</strong>"
   ]
  },
  {
   "cell_type": "code",
   "execution_count": 304,
   "id": "3e60bb2f-7c61-4c78-9fa0-7c77018a760b",
   "metadata": {},
   "outputs": [
    {
     "data": {
      "text/html": [
       "<div>\n",
       "<style scoped>\n",
       "    .dataframe tbody tr th:only-of-type {\n",
       "        vertical-align: middle;\n",
       "    }\n",
       "\n",
       "    .dataframe tbody tr th {\n",
       "        vertical-align: top;\n",
       "    }\n",
       "\n",
       "    .dataframe thead th {\n",
       "        text-align: right;\n",
       "    }\n",
       "</style>\n",
       "<table border=\"1\" class=\"dataframe\">\n",
       "  <thead>\n",
       "    <tr style=\"text-align: right;\">\n",
       "      <th></th>\n",
       "      <th>learn</th>\n",
       "      <th>help</th>\n",
       "    </tr>\n",
       "  </thead>\n",
       "  <tbody>\n",
       "    <tr>\n",
       "      <th>Clicks</th>\n",
       "      <td>21</td>\n",
       "      <td>38</td>\n",
       "    </tr>\n",
       "    <tr>\n",
       "      <th>No-clicks</th>\n",
       "      <td>2726</td>\n",
       "      <td>3142</td>\n",
       "    </tr>\n",
       "  </tbody>\n",
       "</table>\n",
       "</div>"
      ],
      "text/plain": [
       "           learn  help\n",
       "Clicks        21    38\n",
       "No-clicks   2726  3142"
      ]
     },
     "execution_count": 304,
     "metadata": {},
     "output_type": "execute_result"
    }
   ],
   "source": [
    "learn_help=observed1[[\"learn\",\"help\"]]\n",
    "learn_help"
   ]
  },
  {
   "cell_type": "code",
   "execution_count": 305,
   "id": "22dac57d-e2c7-474e-a7fe-3ee7d9c7e3f5",
   "metadata": {},
   "outputs": [
    {
     "name": "stdout",
     "output_type": "stream",
     "text": [
      "P Value:\n",
      "0.09595374264156245\n"
     ]
    }
   ],
   "source": [
    "chi2, pval, dof, expected = chi2_contingency(learn_help, correction=False)\n",
    "print(\"P Value:\")\n",
    "print(pval)"
   ]
  },
  {
   "cell_type": "code",
   "execution_count": 307,
   "id": "5c95474c-3fc9-4342-a3e6-7c617f54e264",
   "metadata": {},
   "outputs": [
    {
     "name": "stdout",
     "output_type": "stream",
     "text": [
      "Chi2 Value:\n",
      "2.7715410437325096\n"
     ]
    }
   ],
   "source": [
    "chi2, pval, dof, expected = chi2_contingency(learn_help, correction=False)\n",
    "print(\"Chi2 Value:\")\n",
    "print(chi2)"
   ]
  },
  {
   "cell_type": "code",
   "execution_count": 306,
   "id": "288ea560-6d18-4f6c-8e01-117463ad92ff",
   "metadata": {},
   "outputs": [
    {
     "name": "stdout",
     "output_type": "stream",
     "text": [
      "not significant\n"
     ]
    }
   ],
   "source": [
    "result = ('significant' if pval < 0.016 else 'not significant')\n",
    "print(result)"
   ]
  },
  {
   "cell_type": "code",
   "execution_count": 310,
   "id": "28a9688e-fb29-45a3-93f4-9b91e2287a7d",
   "metadata": {},
   "outputs": [
    {
     "data": {
      "text/html": [
       "<div>\n",
       "<style scoped>\n",
       "    .dataframe tbody tr th:only-of-type {\n",
       "        vertical-align: middle;\n",
       "    }\n",
       "\n",
       "    .dataframe tbody tr th {\n",
       "        vertical-align: top;\n",
       "    }\n",
       "\n",
       "    .dataframe thead th {\n",
       "        text-align: right;\n",
       "    }\n",
       "</style>\n",
       "<table border=\"1\" class=\"dataframe\">\n",
       "  <thead>\n",
       "    <tr style=\"text-align: right;\">\n",
       "      <th></th>\n",
       "      <th>learn</th>\n",
       "      <th>connect</th>\n",
       "    </tr>\n",
       "  </thead>\n",
       "  <tbody>\n",
       "    <tr>\n",
       "      <th>Clicks</th>\n",
       "      <td>21</td>\n",
       "      <td>53</td>\n",
       "    </tr>\n",
       "    <tr>\n",
       "      <th>No-clicks</th>\n",
       "      <td>2726</td>\n",
       "      <td>2689</td>\n",
       "    </tr>\n",
       "  </tbody>\n",
       "</table>\n",
       "</div>"
      ],
      "text/plain": [
       "           learn  connect\n",
       "Clicks        21       53\n",
       "No-clicks   2726     2689"
      ]
     },
     "execution_count": 310,
     "metadata": {},
     "output_type": "execute_result"
    }
   ],
   "source": [
    "learn_connect=observed1[[\"learn\",\"connect\"]]\n",
    "learn_connect"
   ]
  },
  {
   "cell_type": "code",
   "execution_count": 311,
   "id": "626ce731-5984-4a69-a214-b5469709c643",
   "metadata": {},
   "outputs": [
    {
     "name": "stdout",
     "output_type": "stream",
     "text": [
      "P Value:\n",
      "0.0001746284908340592\n"
     ]
    }
   ],
   "source": [
    "chi2, pval, dof, expected = chi2_contingency(learn_connect, correction=False)\n",
    "print(\"P Value:\")\n",
    "print(pval)"
   ]
  },
  {
   "cell_type": "code",
   "execution_count": 312,
   "id": "1ca4b75c-e421-4eda-ac7d-b329155888d8",
   "metadata": {},
   "outputs": [
    {
     "name": "stdout",
     "output_type": "stream",
     "text": [
      "Chi2 Value:\n",
      "14.086111213439196\n"
     ]
    }
   ],
   "source": [
    "chi2, pval, dof, expected = chi2_contingency(learn_connect, correction=False)\n",
    "print(\"Chi2 Value:\")\n",
    "print(chi2)"
   ]
  },
  {
   "cell_type": "code",
   "execution_count": 313,
   "id": "cef57dba-b4c6-4dc7-b327-5b445088543d",
   "metadata": {},
   "outputs": [
    {
     "name": "stdout",
     "output_type": "stream",
     "text": [
      "significant\n"
     ]
    }
   ],
   "source": [
    "result = ('significant' if pval < 0.016 else 'not significant')\n",
    "print(result)"
   ]
  },
  {
   "cell_type": "code",
   "execution_count": 316,
   "id": "e223f56e-a009-4991-876a-bfd5c4cf0988",
   "metadata": {},
   "outputs": [
    {
     "data": {
      "text/html": [
       "<div>\n",
       "<style scoped>\n",
       "    .dataframe tbody tr th:only-of-type {\n",
       "        vertical-align: middle;\n",
       "    }\n",
       "\n",
       "    .dataframe tbody tr th {\n",
       "        vertical-align: top;\n",
       "    }\n",
       "\n",
       "    .dataframe thead th {\n",
       "        text-align: right;\n",
       "    }\n",
       "</style>\n",
       "<table border=\"1\" class=\"dataframe\">\n",
       "  <thead>\n",
       "    <tr style=\"text-align: right;\">\n",
       "      <th></th>\n",
       "      <th>learn</th>\n",
       "      <th>services</th>\n",
       "    </tr>\n",
       "  </thead>\n",
       "  <tbody>\n",
       "    <tr>\n",
       "      <th>Clicks</th>\n",
       "      <td>21</td>\n",
       "      <td>45</td>\n",
       "    </tr>\n",
       "    <tr>\n",
       "      <th>No-clicks</th>\n",
       "      <td>2726</td>\n",
       "      <td>2019</td>\n",
       "    </tr>\n",
       "  </tbody>\n",
       "</table>\n",
       "</div>"
      ],
      "text/plain": [
       "           learn  services\n",
       "Clicks        21        45\n",
       "No-clicks   2726      2019"
      ]
     },
     "execution_count": 316,
     "metadata": {},
     "output_type": "execute_result"
    }
   ],
   "source": [
    "learn_services=observed1[[\"learn\",\"services\"]]\n",
    "learn_services"
   ]
  },
  {
   "cell_type": "code",
   "execution_count": 317,
   "id": "38a6935d-efee-4db5-9911-c5c7dc7ef772",
   "metadata": {},
   "outputs": [
    {
     "name": "stdout",
     "output_type": "stream",
     "text": [
      "P Value:\n",
      "2.936652885771486e-05\n"
     ]
    }
   ],
   "source": [
    "chi2, pval, dof, expected = chi2_contingency(learn_services, correction=False)\n",
    "print(\"P Value:\")\n",
    "print(pval)"
   ]
  },
  {
   "cell_type": "code",
   "execution_count": 318,
   "id": "3951efb3-d751-4fe1-8575-e0d771757785",
   "metadata": {},
   "outputs": [
    {
     "name": "stdout",
     "output_type": "stream",
     "text": [
      "Chi2 Value:\n",
      "17.458390323762575\n"
     ]
    }
   ],
   "source": [
    "chi2, pval, dof, expected = chi2_contingency(learn_services, correction=False)\n",
    "print(\"Chi2 Value:\")\n",
    "print(chi2)"
   ]
  },
  {
   "cell_type": "code",
   "execution_count": 319,
   "id": "d4d7475d-7d40-4d97-bef6-bf1aa60700f2",
   "metadata": {},
   "outputs": [
    {
     "name": "stdout",
     "output_type": "stream",
     "text": [
      "significant\n"
     ]
    }
   ],
   "source": [
    "result = ('significant' if pval < 0.016 else 'not significant')\n",
    "print(result)"
   ]
  },
  {
   "cell_type": "code",
   "execution_count": 322,
   "id": "db39f19c-a878-45a8-8c61-fe61ab81de8a",
   "metadata": {},
   "outputs": [
    {
     "data": {
      "text/html": [
       "<div>\n",
       "<style scoped>\n",
       "    .dataframe tbody tr th:only-of-type {\n",
       "        vertical-align: middle;\n",
       "    }\n",
       "\n",
       "    .dataframe tbody tr th {\n",
       "        vertical-align: top;\n",
       "    }\n",
       "\n",
       "    .dataframe thead th {\n",
       "        text-align: right;\n",
       "    }\n",
       "</style>\n",
       "<table border=\"1\" class=\"dataframe\">\n",
       "  <thead>\n",
       "    <tr style=\"text-align: right;\">\n",
       "      <th></th>\n",
       "      <th>help</th>\n",
       "      <th>connect</th>\n",
       "    </tr>\n",
       "  </thead>\n",
       "  <tbody>\n",
       "    <tr>\n",
       "      <th>Clicks</th>\n",
       "      <td>38</td>\n",
       "      <td>53</td>\n",
       "    </tr>\n",
       "    <tr>\n",
       "      <th>No-clicks</th>\n",
       "      <td>3142</td>\n",
       "      <td>2689</td>\n",
       "    </tr>\n",
       "  </tbody>\n",
       "</table>\n",
       "</div>"
      ],
      "text/plain": [
       "           help  connect\n",
       "Clicks       38       53\n",
       "No-clicks  3142     2689"
      ]
     },
     "execution_count": 322,
     "metadata": {},
     "output_type": "execute_result"
    }
   ],
   "source": [
    "help_connect=observed1[[\"help\",\"connect\"]]\n",
    "help_connect"
   ]
  },
  {
   "cell_type": "code",
   "execution_count": 323,
   "id": "7f34424b-fc1e-4903-9976-8cdd9acc4e84",
   "metadata": {},
   "outputs": [
    {
     "name": "stdout",
     "output_type": "stream",
     "text": [
      "P Value:\n",
      "0.021335938663978878\n"
     ]
    }
   ],
   "source": [
    "chi2, pval, dof, expected = chi2_contingency(help_connect, correction=False)\n",
    "print(\"P Value:\")\n",
    "print(pval)"
   ]
  },
  {
   "cell_type": "code",
   "execution_count": 324,
   "id": "da41d4d4-f0db-4e54-b735-bd7019dc71f7",
   "metadata": {},
   "outputs": [
    {
     "name": "stdout",
     "output_type": "stream",
     "text": [
      "Chi2 Value:\n",
      "5.299141425219673\n"
     ]
    }
   ],
   "source": [
    "chi2, pval, dof, expected = chi2_contingency(help_connect, correction=False)\n",
    "print(\"Chi2 Value:\")\n",
    "print(chi2)"
   ]
  },
  {
   "cell_type": "code",
   "execution_count": 325,
   "id": "a3ddfb12-8725-44f7-98c6-2862d5c0bb91",
   "metadata": {},
   "outputs": [
    {
     "name": "stdout",
     "output_type": "stream",
     "text": [
      "not significant\n"
     ]
    }
   ],
   "source": [
    "result = ('significant' if pval < 0.016 else 'not significant')\n",
    "print(result)"
   ]
  },
  {
   "cell_type": "code",
   "execution_count": 328,
   "id": "ab243a45-1be2-41ec-9525-52bb98c113ff",
   "metadata": {},
   "outputs": [
    {
     "data": {
      "text/html": [
       "<div>\n",
       "<style scoped>\n",
       "    .dataframe tbody tr th:only-of-type {\n",
       "        vertical-align: middle;\n",
       "    }\n",
       "\n",
       "    .dataframe tbody tr th {\n",
       "        vertical-align: top;\n",
       "    }\n",
       "\n",
       "    .dataframe thead th {\n",
       "        text-align: right;\n",
       "    }\n",
       "</style>\n",
       "<table border=\"1\" class=\"dataframe\">\n",
       "  <thead>\n",
       "    <tr style=\"text-align: right;\">\n",
       "      <th></th>\n",
       "      <th>help</th>\n",
       "      <th>services</th>\n",
       "    </tr>\n",
       "  </thead>\n",
       "  <tbody>\n",
       "    <tr>\n",
       "      <th>Clicks</th>\n",
       "      <td>38</td>\n",
       "      <td>45</td>\n",
       "    </tr>\n",
       "    <tr>\n",
       "      <th>No-clicks</th>\n",
       "      <td>3142</td>\n",
       "      <td>2019</td>\n",
       "    </tr>\n",
       "  </tbody>\n",
       "</table>\n",
       "</div>"
      ],
      "text/plain": [
       "           help  services\n",
       "Clicks       38        45\n",
       "No-clicks  3142      2019"
      ]
     },
     "execution_count": 328,
     "metadata": {},
     "output_type": "execute_result"
    }
   ],
   "source": [
    "help_services=observed1[[\"help\",\"services\"]]\n",
    "help_services"
   ]
  },
  {
   "cell_type": "code",
   "execution_count": 329,
   "id": "a0316ff2-c8a6-4eda-bac1-f61bc1888893",
   "metadata": {},
   "outputs": [
    {
     "name": "stdout",
     "output_type": "stream",
     "text": [
      "P Value:\n",
      "0.005224718202448622\n"
     ]
    }
   ],
   "source": [
    "chi2, pval, dof, expected = chi2_contingency(help_services, correction=False)\n",
    "print(\"P Value:\")\n",
    "print(pval)"
   ]
  },
  {
   "cell_type": "code",
   "execution_count": 330,
   "id": "f2911b54-51a1-462c-85f0-0848565be723",
   "metadata": {},
   "outputs": [
    {
     "name": "stdout",
     "output_type": "stream",
     "text": [
      "Chi2 Value:\n",
      "7.799967226887146\n"
     ]
    }
   ],
   "source": [
    "chi2, pval, dof, expected = chi2_contingency(help_services, correction=False)\n",
    "print(\"Chi2 Value:\")\n",
    "print(chi2)"
   ]
  },
  {
   "cell_type": "code",
   "execution_count": 331,
   "id": "bab74698-061e-4e7f-8a73-47c6a2a7771f",
   "metadata": {},
   "outputs": [
    {
     "name": "stdout",
     "output_type": "stream",
     "text": [
      "significant\n"
     ]
    }
   ],
   "source": [
    "result = ('significant' if pval < 0.016 else 'not significant')\n",
    "print(result)"
   ]
  },
  {
   "cell_type": "code",
   "execution_count": 334,
   "id": "8daf5e53-50f5-4997-ae08-fb69d2b5ac38",
   "metadata": {},
   "outputs": [
    {
     "data": {
      "text/html": [
       "<div>\n",
       "<style scoped>\n",
       "    .dataframe tbody tr th:only-of-type {\n",
       "        vertical-align: middle;\n",
       "    }\n",
       "\n",
       "    .dataframe tbody tr th {\n",
       "        vertical-align: top;\n",
       "    }\n",
       "\n",
       "    .dataframe thead th {\n",
       "        text-align: right;\n",
       "    }\n",
       "</style>\n",
       "<table border=\"1\" class=\"dataframe\">\n",
       "  <thead>\n",
       "    <tr style=\"text-align: right;\">\n",
       "      <th></th>\n",
       "      <th>connect</th>\n",
       "      <th>services</th>\n",
       "    </tr>\n",
       "  </thead>\n",
       "  <tbody>\n",
       "    <tr>\n",
       "      <th>Clicks</th>\n",
       "      <td>53</td>\n",
       "      <td>45</td>\n",
       "    </tr>\n",
       "    <tr>\n",
       "      <th>No-clicks</th>\n",
       "      <td>2689</td>\n",
       "      <td>2019</td>\n",
       "    </tr>\n",
       "  </tbody>\n",
       "</table>\n",
       "</div>"
      ],
      "text/plain": [
       "           connect  services\n",
       "Clicks          53        45\n",
       "No-clicks     2689      2019"
      ]
     },
     "execution_count": 334,
     "metadata": {},
     "output_type": "execute_result"
    }
   ],
   "source": [
    "connect_services=observed1[[\"connect\",\"services\"]]\n",
    "connect_services"
   ]
  },
  {
   "cell_type": "code",
   "execution_count": 335,
   "id": "f62382f2-fd54-42c7-8755-3e0ebfb8843c",
   "metadata": {},
   "outputs": [
    {
     "name": "stdout",
     "output_type": "stream",
     "text": [
      "P Value:\n",
      "0.5481500077135573\n"
     ]
    }
   ],
   "source": [
    "chi2, pval, dof, expected = chi2_contingency(connect_services, correction=False)\n",
    "print(\"P Value:\")\n",
    "print(pval)"
   ]
  },
  {
   "cell_type": "code",
   "execution_count": 336,
   "id": "32e7f14a-1623-419d-b05a-17404086f211",
   "metadata": {},
   "outputs": [
    {
     "name": "stdout",
     "output_type": "stream",
     "text": [
      "Chi2 Value:\n",
      "0.36064180794754525\n"
     ]
    }
   ],
   "source": [
    "chi2, pval, dof, expected = chi2_contingency(connect_services, correction=False)\n",
    "print(\"Chi2 Value:\")\n",
    "print(chi2)"
   ]
  },
  {
   "cell_type": "code",
   "execution_count": 337,
   "id": "2955bc6c-78b2-402c-8bda-0d4076808343",
   "metadata": {},
   "outputs": [
    {
     "name": "stdout",
     "output_type": "stream",
     "text": [
      "not significant\n"
     ]
    }
   ],
   "source": [
    "result = ('significant' if pval < 0.016 else 'not significant')\n",
    "print(result)"
   ]
  },
  {
   "cell_type": "markdown",
   "id": "5ebd487e-9a8b-4c58-93ee-cf8814bd2ccf",
   "metadata": {},
   "source": [
    "<h><strong>OTHER WAY</strong><h>"
   ]
  },
  {
   "cell_type": "code",
   "execution_count": 258,
   "id": "0be1765f-969d-4e47-9afe-c3ee77b40a7e",
   "metadata": {},
   "outputs": [],
   "source": [
    "#h0=The3 versions of the button are equally likely to receive clicks, and the observed differences are due to chance.\n",
    "#h1=The observed differences are not due to chance: there are versions of the button that are more likely to receive clicks (i.e. they have a better CTR, a better performance)."
   ]
  },
  {
   "cell_type": "code",
   "execution_count": 259,
   "id": "ff06cdb9-66cf-4232-8d69-b909e6f1182e",
   "metadata": {},
   "outputs": [],
   "source": [
    "observed2=observed1.drop(\"learn\", axis=1)"
   ]
  },
  {
   "cell_type": "code",
   "execution_count": 260,
   "id": "f8d5572d-e85f-4433-8fdd-3e3ed9e693e4",
   "metadata": {},
   "outputs": [
    {
     "data": {
      "text/html": [
       "<div>\n",
       "<style scoped>\n",
       "    .dataframe tbody tr th:only-of-type {\n",
       "        vertical-align: middle;\n",
       "    }\n",
       "\n",
       "    .dataframe tbody tr th {\n",
       "        vertical-align: top;\n",
       "    }\n",
       "\n",
       "    .dataframe thead th {\n",
       "        text-align: right;\n",
       "    }\n",
       "</style>\n",
       "<table border=\"1\" class=\"dataframe\">\n",
       "  <thead>\n",
       "    <tr style=\"text-align: right;\">\n",
       "      <th></th>\n",
       "      <th>services</th>\n",
       "      <th>connect</th>\n",
       "      <th>help</th>\n",
       "    </tr>\n",
       "  </thead>\n",
       "  <tbody>\n",
       "    <tr>\n",
       "      <th>Clicks</th>\n",
       "      <td>45</td>\n",
       "      <td>53</td>\n",
       "      <td>38</td>\n",
       "    </tr>\n",
       "    <tr>\n",
       "      <th>No-clicks</th>\n",
       "      <td>2019</td>\n",
       "      <td>2689</td>\n",
       "      <td>3142</td>\n",
       "    </tr>\n",
       "  </tbody>\n",
       "</table>\n",
       "</div>"
      ],
      "text/plain": [
       "           services  connect  help\n",
       "Clicks           45       53    38\n",
       "No-clicks      2019     2689  3142"
      ]
     },
     "execution_count": 260,
     "metadata": {},
     "output_type": "execute_result"
    }
   ],
   "source": [
    "observed2"
   ]
  },
  {
   "cell_type": "code",
   "execution_count": 261,
   "id": "1e14ce9f-7ec8-4901-ab6b-26dbb8fa7220",
   "metadata": {},
   "outputs": [
    {
     "name": "stdout",
     "output_type": "stream",
     "text": [
      "P Value:\n",
      "0.013726659948517513\n"
     ]
    }
   ],
   "source": [
    "chi2, pval, dof, expected = chi2_contingency(observed2, correction=False)\n",
    "print(\"P Value:\")\n",
    "print(pval)"
   ]
  },
  {
   "cell_type": "code",
   "execution_count": 246,
   "id": "64b01919-9c8b-4ddb-b7de-6a762a3f7423",
   "metadata": {},
   "outputs": [
    {
     "name": "stdout",
     "output_type": "stream",
     "text": [
      "Chi2 Value:\n",
      "8.57683071094785\n"
     ]
    }
   ],
   "source": [
    "chi2, pval, dof, expected = chi2_contingency(observed2, correction=False)\n",
    "print(\"Chi2 Value:\")\n",
    "print(chi2)"
   ]
  },
  {
   "cell_type": "code",
   "execution_count": 262,
   "id": "0257aa00-a720-4c79-97ac-b77e0c280796",
   "metadata": {},
   "outputs": [
    {
     "name": "stdout",
     "output_type": "stream",
     "text": [
      "significant\n"
     ]
    }
   ],
   "source": [
    "result = ('significant' if pval < 0.016 else 'not significant')\n",
    "print(result)"
   ]
  },
  {
   "cell_type": "code",
   "execution_count": 263,
   "id": "c7cc9a4d-92cd-45bb-aa8e-95628306cd1b",
   "metadata": {},
   "outputs": [],
   "source": [
    "#h0=The2 versions of the button are equally likely to receive clicks, and the observed differences are due to chance.\n",
    "#h1=The observed differences are not due to chance: there are versions of the button that are more likely to receive clicks (i.e. they have a better CTR, a better performance)."
   ]
  },
  {
   "cell_type": "code",
   "execution_count": 264,
   "id": "887dbff1-e5db-4e9f-9d27-c93512ff9197",
   "metadata": {},
   "outputs": [],
   "source": [
    "observed3=observed2.drop(\"help\", axis=1)"
   ]
  },
  {
   "cell_type": "code",
   "execution_count": 265,
   "id": "2129096c-1853-4459-93fd-f7271229fb1f",
   "metadata": {},
   "outputs": [
    {
     "data": {
      "text/html": [
       "<div>\n",
       "<style scoped>\n",
       "    .dataframe tbody tr th:only-of-type {\n",
       "        vertical-align: middle;\n",
       "    }\n",
       "\n",
       "    .dataframe tbody tr th {\n",
       "        vertical-align: top;\n",
       "    }\n",
       "\n",
       "    .dataframe thead th {\n",
       "        text-align: right;\n",
       "    }\n",
       "</style>\n",
       "<table border=\"1\" class=\"dataframe\">\n",
       "  <thead>\n",
       "    <tr style=\"text-align: right;\">\n",
       "      <th></th>\n",
       "      <th>services</th>\n",
       "      <th>connect</th>\n",
       "    </tr>\n",
       "  </thead>\n",
       "  <tbody>\n",
       "    <tr>\n",
       "      <th>Clicks</th>\n",
       "      <td>45</td>\n",
       "      <td>53</td>\n",
       "    </tr>\n",
       "    <tr>\n",
       "      <th>No-clicks</th>\n",
       "      <td>2019</td>\n",
       "      <td>2689</td>\n",
       "    </tr>\n",
       "  </tbody>\n",
       "</table>\n",
       "</div>"
      ],
      "text/plain": [
       "           services  connect\n",
       "Clicks           45       53\n",
       "No-clicks      2019     2689"
      ]
     },
     "execution_count": 265,
     "metadata": {},
     "output_type": "execute_result"
    }
   ],
   "source": [
    "observed3"
   ]
  },
  {
   "cell_type": "code",
   "execution_count": 266,
   "id": "0284e4cd-7133-41b2-9bd1-3ce261c946f3",
   "metadata": {},
   "outputs": [
    {
     "name": "stdout",
     "output_type": "stream",
     "text": [
      "P Value:\n",
      "0.5481500077135573\n"
     ]
    }
   ],
   "source": [
    "chi2, pval, dof, expected = chi2_contingency(observed3, correction=False)\n",
    "print(\"P Value:\")\n",
    "print(pval)"
   ]
  },
  {
   "cell_type": "code",
   "execution_count": 251,
   "id": "94ddf68e-a3e0-420d-a5c6-c1e89e55d346",
   "metadata": {},
   "outputs": [
    {
     "name": "stdout",
     "output_type": "stream",
     "text": [
      "Chi2 Value:\n",
      "0.36064180794754525\n"
     ]
    }
   ],
   "source": [
    "chi2, pval, dof, expected = chi2_contingency(observed3, correction=False)\n",
    "print(\"Chi2 Value:\")\n",
    "print(chi2)"
   ]
  },
  {
   "cell_type": "code",
   "execution_count": 268,
   "id": "f618c1dc-5f58-4ff5-910d-77d47b952adf",
   "metadata": {},
   "outputs": [
    {
     "name": "stdout",
     "output_type": "stream",
     "text": [
      "Expected:\n",
      "[[  42.08739076   55.91260924]\n",
      " [2021.91260924 2686.08739076]]\n"
     ]
    }
   ],
   "source": [
    "chi2, pval, dof, expected = chi2_contingency(observed3, correction=False)\n",
    "print(\"Expected:\")\n",
    "print(expected)"
   ]
  },
  {
   "cell_type": "code",
   "execution_count": 267,
   "id": "40d8ff6b-7675-4e16-bbb3-033b903d3c47",
   "metadata": {},
   "outputs": [
    {
     "name": "stdout",
     "output_type": "stream",
     "text": [
      "not significant\n"
     ]
    }
   ],
   "source": [
    "result = ('significant' if pval < 0.016 else 'not significant')\n",
    "print(result)"
   ]
  },
  {
   "cell_type": "code",
   "execution_count": null,
   "id": "1ad003a8-204c-4c3a-9b28-066349c2321c",
   "metadata": {},
   "outputs": [],
   "source": []
  }
 ],
 "metadata": {
  "kernelspec": {
   "display_name": "Python 3",
   "language": "python",
   "name": "python3"
  },
  "language_info": {
   "codemirror_mode": {
    "name": "ipython",
    "version": 3
   },
   "file_extension": ".py",
   "mimetype": "text/x-python",
   "name": "python",
   "nbconvert_exporter": "python",
   "pygments_lexer": "ipython3",
   "version": "3.8.8"
  }
 },
 "nbformat": 4,
 "nbformat_minor": 5
}
